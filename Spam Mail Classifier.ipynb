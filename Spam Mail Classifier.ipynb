{
 "cells": [
  {
   "cell_type": "markdown",
   "id": "514f2e75",
   "metadata": {
    "papermill": {
     "duration": 0.022613,
     "end_time": "2022-02-13T08:05:20.126038",
     "exception": false,
     "start_time": "2022-02-13T08:05:20.103425",
     "status": "completed"
    },
    "tags": []
   },
   "source": [
    "# Importing the Dependencies"
   ]
  },
  {
   "cell_type": "code",
   "execution_count": 1,
   "id": "7cdb1251",
   "metadata": {
    "_cell_guid": "b1076dfc-b9ad-4769-8c92-a6c4dae69d19",
    "_uuid": "8f2839f25d086af736a60e9eeb907d3b93b6e0e5",
    "papermill": {
     "duration": 1.255834,
     "end_time": "2022-02-13T08:05:21.403978",
     "exception": false,
     "start_time": "2022-02-13T08:05:20.148144",
     "status": "completed"
    },
    "tags": []
   },
   "outputs": [],
   "source": [
    "import numpy as np\n",
    "import pandas as pd\n",
    "from sklearn.model_selection import train_test_split\n",
    "from sklearn.feature_extraction.text import TfidfVectorizer\n",
    "from sklearn.metrics import accuracy_score\n",
    "import re"
   ]
  },
  {
   "cell_type": "code",
   "execution_count": 2,
   "id": "27a85eb5-08c3-44d3-a676-d289675f6616",
   "metadata": {},
   "outputs": [
    {
     "name": "stderr",
     "output_type": "stream",
     "text": [
      "[nltk_data] Downloading package stopwords to\n",
      "[nltk_data]     C:\\Users\\User\\AppData\\Roaming\\nltk_data...\n",
      "[nltk_data]   Package stopwords is already up-to-date!\n"
     ]
    }
   ],
   "source": [
    "import nltk\n",
    "from nltk.corpus import stopwords\n",
    "nltk.download('stopwords')\n",
    "\n",
    "from nltk.stem.porter import PorterStemmer\n",
    "port_stem = PorterStemmer()"
   ]
  },
  {
   "cell_type": "markdown",
   "id": "1f556f7e",
   "metadata": {
    "papermill": {
     "duration": 0.020283,
     "end_time": "2022-02-13T08:05:21.445187",
     "exception": false,
     "start_time": "2022-02-13T08:05:21.424904",
     "status": "completed"
    },
    "tags": []
   },
   "source": [
    "# Data Collection & Pre-Processing"
   ]
  },
  {
   "cell_type": "code",
   "execution_count": 3,
   "id": "480f1f1a",
   "metadata": {
    "papermill": {
     "duration": 0.0574,
     "end_time": "2022-02-13T08:05:21.523279",
     "exception": false,
     "start_time": "2022-02-13T08:05:21.465879",
     "status": "completed"
    },
    "tags": []
   },
   "outputs": [],
   "source": [
    "raw_mail_data = pd.read_csv('mail_data.csv')"
   ]
  },
  {
   "cell_type": "code",
   "execution_count": 4,
   "id": "3a84ecba",
   "metadata": {
    "papermill": {
     "duration": 0.036625,
     "end_time": "2022-02-13T08:05:21.581729",
     "exception": false,
     "start_time": "2022-02-13T08:05:21.545104",
     "status": "completed"
    },
    "tags": []
   },
   "outputs": [
    {
     "name": "stdout",
     "output_type": "stream",
     "text": [
      "     Category                                            Message\n",
      "0         ham  Go until jurong point, crazy.. Available only ...\n",
      "1         ham                      Ok lar... Joking wif u oni...\n",
      "2        spam  Free entry in 2 a wkly comp to win FA Cup fina...\n",
      "3         ham  U dun say so early hor... U c already then say...\n",
      "4         ham  Nah I don't think he goes to usf, he lives aro...\n",
      "...       ...                                                ...\n",
      "5567     spam  This is the 2nd time we have tried 2 contact u...\n",
      "5568      ham               Will ü b going to esplanade fr home?\n",
      "5569      ham  Pity, * was in mood for that. So...any other s...\n",
      "5570      ham  The guy did some bitching but I acted like i'd...\n",
      "5571      ham                         Rofl. Its true to its name\n",
      "\n",
      "[5572 rows x 2 columns]\n"
     ]
    }
   ],
   "source": [
    "print(raw_mail_data)"
   ]
  },
  {
   "cell_type": "code",
   "execution_count": 5,
   "id": "3307f138-691d-4724-aee6-f488c98e3348",
   "metadata": {},
   "outputs": [
    {
     "data": {
      "text/plain": [
       "Category    0\n",
       "Message     0\n",
       "dtype: int64"
      ]
     },
     "execution_count": 5,
     "metadata": {},
     "output_type": "execute_result"
    }
   ],
   "source": [
    "raw_mail_data.isnull().sum()"
   ]
  },
  {
   "cell_type": "code",
   "execution_count": 6,
   "id": "ba25a2c4",
   "metadata": {
    "papermill": {
     "duration": 0.029672,
     "end_time": "2022-02-13T08:05:21.633160",
     "exception": false,
     "start_time": "2022-02-13T08:05:21.603488",
     "status": "completed"
    },
    "tags": []
   },
   "outputs": [],
   "source": [
    "mail_data = raw_mail_data.dropna(subset = \"Message\")"
   ]
  },
  {
   "cell_type": "code",
   "execution_count": 7,
   "id": "88284658",
   "metadata": {
    "papermill": {
     "duration": 0.036489,
     "end_time": "2022-02-13T08:05:21.691132",
     "exception": false,
     "start_time": "2022-02-13T08:05:21.654643",
     "status": "completed"
    },
    "tags": []
   },
   "outputs": [
    {
     "data": {
      "text/plain": [
       "(5572, 2)"
      ]
     },
     "execution_count": 7,
     "metadata": {},
     "output_type": "execute_result"
    }
   ],
   "source": [
    "mail_data.head()\n",
    "mail_data.shape"
   ]
  },
  {
   "cell_type": "code",
   "execution_count": 8,
   "id": "223848ca-00b3-4995-b614-97074add2d7c",
   "metadata": {},
   "outputs": [],
   "source": [
    "port_stem = PorterStemmer()"
   ]
  },
  {
   "cell_type": "code",
   "execution_count": 9,
   "id": "e766248a-4719-47b5-a149-0c5245deb5b7",
   "metadata": {},
   "outputs": [],
   "source": [
    "def generalise(text):\n",
    "  text = text.lower()\n",
    "  text = re.sub('[^a-z]',' ',text)\n",
    "  text = text.split()\n",
    "  text = [port_stem.stem(word) for word in text if not word in stopwords.words('english')]\n",
    "  text = ' '.join(text)\n",
    "  return text"
   ]
  },
  {
   "cell_type": "code",
   "execution_count": 10,
   "id": "0ccfb3ac-fe66-48fe-b94c-1f129574e888",
   "metadata": {},
   "outputs": [],
   "source": [
    "mail_data['Message'] = mail_data['Message'].apply(generalise)"
   ]
  },
  {
   "cell_type": "markdown",
   "id": "c40fa730",
   "metadata": {
    "papermill": {
     "duration": 0.021833,
     "end_time": "2022-02-13T08:05:21.787833",
     "exception": false,
     "start_time": "2022-02-13T08:05:21.766000",
     "status": "completed"
    },
    "tags": []
   },
   "source": [
    "# Label Encoding"
   ]
  },
  {
   "cell_type": "code",
   "execution_count": 11,
   "id": "74f9dece",
   "metadata": {
    "papermill": {
     "duration": 0.034185,
     "end_time": "2022-02-13T08:05:21.844726",
     "exception": false,
     "start_time": "2022-02-13T08:05:21.810541",
     "status": "completed"
    },
    "tags": []
   },
   "outputs": [],
   "source": [
    "mail_data.loc[mail_data['Category'] == 'spam', 'Category',] = 0\n",
    "mail_data.loc[mail_data['Category'] == 'ham', 'Category',] = 1"
   ]
  },
  {
   "cell_type": "markdown",
   "id": "b675ff06",
   "metadata": {
    "papermill": {
     "duration": 0.021613,
     "end_time": "2022-02-13T08:05:21.888215",
     "exception": false,
     "start_time": "2022-02-13T08:05:21.866602",
     "status": "completed"
    },
    "tags": []
   },
   "source": [
    "* spam - 0\n",
    " \n",
    "* ham - 1"
   ]
  },
  {
   "cell_type": "code",
   "execution_count": 12,
   "id": "6d9e1363",
   "metadata": {
    "papermill": {
     "duration": 0.030064,
     "end_time": "2022-02-13T08:05:21.940186",
     "exception": false,
     "start_time": "2022-02-13T08:05:21.910122",
     "status": "completed"
    },
    "tags": []
   },
   "outputs": [],
   "source": [
    "X = mail_data['Message']\n",
    "Y = mail_data['Category']"
   ]
  },
  {
   "cell_type": "code",
   "execution_count": 13,
   "id": "b922eaa6",
   "metadata": {
    "papermill": {
     "duration": 0.040335,
     "end_time": "2022-02-13T08:05:22.012291",
     "exception": false,
     "start_time": "2022-02-13T08:05:21.971956",
     "status": "completed"
    },
    "tags": []
   },
   "outputs": [
    {
     "name": "stdout",
     "output_type": "stream",
     "text": [
      "0       go jurong point crazi avail bugi n great world...\n",
      "1                                   ok lar joke wif u oni\n",
      "2       free entri wkli comp win fa cup final tkt st m...\n",
      "3                     u dun say earli hor u c alreadi say\n",
      "4                    nah think goe usf live around though\n",
      "                              ...                        \n",
      "5567    nd time tri contact u u pound prize claim easi...\n",
      "5568                                b go esplanad fr home\n",
      "5569                                    piti mood suggest\n",
      "5570    guy bitch act like interest buy someth els nex...\n",
      "5571                                       rofl true name\n",
      "Name: Message, Length: 5572, dtype: object\n"
     ]
    }
   ],
   "source": [
    "print(X)"
   ]
  },
  {
   "cell_type": "code",
   "execution_count": 14,
   "id": "4be259a7",
   "metadata": {
    "papermill": {
     "duration": 0.034103,
     "end_time": "2022-02-13T08:05:22.077445",
     "exception": false,
     "start_time": "2022-02-13T08:05:22.043342",
     "status": "completed"
    },
    "tags": []
   },
   "outputs": [
    {
     "name": "stdout",
     "output_type": "stream",
     "text": [
      "0       1\n",
      "1       1\n",
      "2       0\n",
      "3       1\n",
      "4       1\n",
      "       ..\n",
      "5567    0\n",
      "5568    1\n",
      "5569    1\n",
      "5570    1\n",
      "5571    1\n",
      "Name: Category, Length: 5572, dtype: object\n"
     ]
    }
   ],
   "source": [
    "print(Y)"
   ]
  },
  {
   "cell_type": "markdown",
   "id": "cf12947d",
   "metadata": {
    "papermill": {
     "duration": 0.022187,
     "end_time": "2022-02-13T08:05:22.122433",
     "exception": false,
     "start_time": "2022-02-13T08:05:22.100246",
     "status": "completed"
    },
    "tags": []
   },
   "source": [
    "# Splitting the data into training data & test data"
   ]
  },
  {
   "cell_type": "code",
   "execution_count": 15,
   "id": "5eaab632",
   "metadata": {
    "papermill": {
     "duration": 0.031592,
     "end_time": "2022-02-13T08:05:22.176580",
     "exception": false,
     "start_time": "2022-02-13T08:05:22.144988",
     "status": "completed"
    },
    "tags": []
   },
   "outputs": [],
   "source": [
    "X_train, X_test, Y_train, Y_test = train_test_split(X, Y, test_size=0.2, random_state=42)"
   ]
  },
  {
   "cell_type": "code",
   "execution_count": 16,
   "id": "a762e1aa",
   "metadata": {
    "papermill": {
     "duration": 0.030786,
     "end_time": "2022-02-13T08:05:22.229719",
     "exception": false,
     "start_time": "2022-02-13T08:05:22.198933",
     "status": "completed"
    },
    "tags": []
   },
   "outputs": [
    {
     "name": "stdout",
     "output_type": "stream",
     "text": [
      "(5572,)\n",
      "(4457,)\n",
      "(1115,)\n"
     ]
    }
   ],
   "source": [
    "print(X.shape)\n",
    "print(X_train.shape)\n",
    "print(X_test.shape)"
   ]
  },
  {
   "cell_type": "markdown",
   "id": "55295822",
   "metadata": {
    "papermill": {
     "duration": 0.022647,
     "end_time": "2022-02-13T08:05:22.275344",
     "exception": false,
     "start_time": "2022-02-13T08:05:22.252697",
     "status": "completed"
    },
    "tags": []
   },
   "source": [
    "Feature Extraction"
   ]
  },
  {
   "cell_type": "code",
   "execution_count": 17,
   "id": "64e5b11b",
   "metadata": {
    "papermill": {
     "duration": 0.127765,
     "end_time": "2022-02-13T08:05:22.425918",
     "exception": false,
     "start_time": "2022-02-13T08:05:22.298153",
     "status": "completed"
    },
    "tags": []
   },
   "outputs": [],
   "source": [
    "feature_extraction = TfidfVectorizer()\n",
    "\n",
    "X_train_features = feature_extraction.fit_transform(X_train)\n",
    "X_test_features = feature_extraction.transform(X_test)\n",
    "\n",
    "Y_train = Y_train.astype('int')\n",
    "Y_test = Y_test.astype('int')"
   ]
  },
  {
   "cell_type": "code",
   "execution_count": 18,
   "id": "6408f606",
   "metadata": {
    "papermill": {
     "duration": 0.031435,
     "end_time": "2022-02-13T08:05:22.480534",
     "exception": false,
     "start_time": "2022-02-13T08:05:22.449099",
     "status": "completed"
    },
    "tags": []
   },
   "outputs": [
    {
     "name": "stdout",
     "output_type": "stream",
     "text": [
      "1978    repli win weekli fifa world cup held send stop...\n",
      "3989    hello sort town alreadi dont rush home eat nac...\n",
      "3935                        come guoyang go n tell u told\n",
      "4078    hey sathya till dint meet even singl time saw ...\n",
      "4086    orang bring rington time chart hero free hit w...\n",
      "                              ...                        \n",
      "3772    hi wlcome back wonder got eaten lion someth no...\n",
      "5191                                     sorri call later\n",
      "5226                   prabha soryda reali frm heart sori\n",
      "5390                                 nt joke serious told\n",
      "860                               say somebodi name tampa\n",
      "Name: Message, Length: 4457, dtype: object\n"
     ]
    }
   ],
   "source": [
    "print(X_train)"
   ]
  },
  {
   "cell_type": "code",
   "execution_count": 19,
   "id": "bb5599cd",
   "metadata": {
    "papermill": {
     "duration": 0.031952,
     "end_time": "2022-02-13T08:05:22.535679",
     "exception": false,
     "start_time": "2022-02-13T08:05:22.503727",
     "status": "completed"
    },
    "tags": []
   },
   "outputs": [
    {
     "name": "stdout",
     "output_type": "stream",
     "text": [
      "  (0, 4213)\t0.2589400650794878\n",
      "  (0, 1461)\t0.2667514611844667\n",
      "  (0, 4586)\t0.2262397093334804\n",
      "  (0, 4196)\t0.20849904995757204\n",
      "  (0, 2114)\t0.4063431025874305\n",
      "  (0, 1082)\t0.35834686867924903\n",
      "  (0, 5452)\t0.290509466585464\n",
      "  (0, 1661)\t0.42618427077303406\n",
      "  (0, 5323)\t0.30666962616533244\n",
      "  (0, 5387)\t0.25151153775945895\n",
      "  (0, 3969)\t0.22422566614651127\n",
      "  (1, 1512)\t0.38429196872653903\n",
      "  (1, 2577)\t0.1885666763934136\n",
      "  (1, 2680)\t0.23351114363990885\n",
      "  (1, 3145)\t0.40305641073460635\n",
      "  (1, 1403)\t0.2692934502523703\n",
      "  (1, 2171)\t0.2067728630399252\n",
      "  (1, 4069)\t0.3606515676125802\n",
      "  (1, 1314)\t0.21635656162945344\n",
      "  (1, 147)\t0.23986064804016122\n",
      "  (1, 4980)\t0.29002750049719406\n",
      "  (1, 4461)\t0.30682233426850475\n",
      "  (1, 2118)\t0.2680254583784647\n",
      "  (2, 4934)\t0.44750216941002907\n",
      "  (2, 4784)\t0.36516228999264344\n",
      "  :\t:\n",
      "  (4452, 2713)\t0.38582078634356226\n",
      "  (4452, 4434)\t0.2735032810472839\n",
      "  (4452, 3270)\t0.30423106087062834\n",
      "  (4452, 5438)\t0.30095930979445307\n",
      "  (4452, 2133)\t0.2426917777586048\n",
      "  (4452, 1967)\t0.21119416867594362\n",
      "  (4452, 372)\t0.2343777212129887\n",
      "  (4452, 3109)\t0.25025603265228796\n",
      "  (4453, 2632)\t0.6403605654343271\n",
      "  (4453, 4459)\t0.6309283017378554\n",
      "  (4453, 699)\t0.4380271958484023\n",
      "  (4454, 4458)\t0.44710479387943863\n",
      "  (4454, 4462)\t0.44710479387943863\n",
      "  (4454, 3687)\t0.4346588675047307\n",
      "  (4454, 3895)\t0.40844421540752057\n",
      "  (4454, 2103)\t0.3146434164647109\n",
      "  (4454, 1799)\t0.38136481071947864\n",
      "  (4455, 4210)\t0.5513252718884546\n",
      "  (4455, 2476)\t0.5091936676603257\n",
      "  (4455, 3282)\t0.5091936676603257\n",
      "  (4455, 4934)\t0.42128857355306143\n",
      "  (4456, 4427)\t0.5668936435354085\n",
      "  (4456, 4747)\t0.5866665770020241\n",
      "  (4456, 3152)\t0.44569440514715286\n",
      "  (4456, 4132)\t0.3685246553059955\n"
     ]
    }
   ],
   "source": [
    "print(X_train_features)"
   ]
  },
  {
   "cell_type": "markdown",
   "id": "bb530bb2",
   "metadata": {
    "papermill": {
     "duration": 0.023524,
     "end_time": "2022-02-13T08:05:22.582811",
     "exception": false,
     "start_time": "2022-02-13T08:05:22.559287",
     "status": "completed"
    },
    "tags": []
   },
   "source": [
    "# Logistic Regression"
   ]
  },
  {
   "cell_type": "code",
   "execution_count": 20,
   "id": "000c3761",
   "metadata": {
    "papermill": {
     "duration": 0.030561,
     "end_time": "2022-02-13T08:05:22.637155",
     "exception": false,
     "start_time": "2022-02-13T08:05:22.606594",
     "status": "completed"
    },
    "tags": []
   },
   "outputs": [
    {
     "data": {
      "text/html": [
       "<style>#sk-container-id-1 {color: black;}#sk-container-id-1 pre{padding: 0;}#sk-container-id-1 div.sk-toggleable {background-color: white;}#sk-container-id-1 label.sk-toggleable__label {cursor: pointer;display: block;width: 100%;margin-bottom: 0;padding: 0.3em;box-sizing: border-box;text-align: center;}#sk-container-id-1 label.sk-toggleable__label-arrow:before {content: \"▸\";float: left;margin-right: 0.25em;color: #696969;}#sk-container-id-1 label.sk-toggleable__label-arrow:hover:before {color: black;}#sk-container-id-1 div.sk-estimator:hover label.sk-toggleable__label-arrow:before {color: black;}#sk-container-id-1 div.sk-toggleable__content {max-height: 0;max-width: 0;overflow: hidden;text-align: left;background-color: #f0f8ff;}#sk-container-id-1 div.sk-toggleable__content pre {margin: 0.2em;color: black;border-radius: 0.25em;background-color: #f0f8ff;}#sk-container-id-1 input.sk-toggleable__control:checked~div.sk-toggleable__content {max-height: 200px;max-width: 100%;overflow: auto;}#sk-container-id-1 input.sk-toggleable__control:checked~label.sk-toggleable__label-arrow:before {content: \"▾\";}#sk-container-id-1 div.sk-estimator input.sk-toggleable__control:checked~label.sk-toggleable__label {background-color: #d4ebff;}#sk-container-id-1 div.sk-label input.sk-toggleable__control:checked~label.sk-toggleable__label {background-color: #d4ebff;}#sk-container-id-1 input.sk-hidden--visually {border: 0;clip: rect(1px 1px 1px 1px);clip: rect(1px, 1px, 1px, 1px);height: 1px;margin: -1px;overflow: hidden;padding: 0;position: absolute;width: 1px;}#sk-container-id-1 div.sk-estimator {font-family: monospace;background-color: #f0f8ff;border: 1px dotted black;border-radius: 0.25em;box-sizing: border-box;margin-bottom: 0.5em;}#sk-container-id-1 div.sk-estimator:hover {background-color: #d4ebff;}#sk-container-id-1 div.sk-parallel-item::after {content: \"\";width: 100%;border-bottom: 1px solid gray;flex-grow: 1;}#sk-container-id-1 div.sk-label:hover label.sk-toggleable__label {background-color: #d4ebff;}#sk-container-id-1 div.sk-serial::before {content: \"\";position: absolute;border-left: 1px solid gray;box-sizing: border-box;top: 0;bottom: 0;left: 50%;z-index: 0;}#sk-container-id-1 div.sk-serial {display: flex;flex-direction: column;align-items: center;background-color: white;padding-right: 0.2em;padding-left: 0.2em;position: relative;}#sk-container-id-1 div.sk-item {position: relative;z-index: 1;}#sk-container-id-1 div.sk-parallel {display: flex;align-items: stretch;justify-content: center;background-color: white;position: relative;}#sk-container-id-1 div.sk-item::before, #sk-container-id-1 div.sk-parallel-item::before {content: \"\";position: absolute;border-left: 1px solid gray;box-sizing: border-box;top: 0;bottom: 0;left: 50%;z-index: -1;}#sk-container-id-1 div.sk-parallel-item {display: flex;flex-direction: column;z-index: 1;position: relative;background-color: white;}#sk-container-id-1 div.sk-parallel-item:first-child::after {align-self: flex-end;width: 50%;}#sk-container-id-1 div.sk-parallel-item:last-child::after {align-self: flex-start;width: 50%;}#sk-container-id-1 div.sk-parallel-item:only-child::after {width: 0;}#sk-container-id-1 div.sk-dashed-wrapped {border: 1px dashed gray;margin: 0 0.4em 0.5em 0.4em;box-sizing: border-box;padding-bottom: 0.4em;background-color: white;}#sk-container-id-1 div.sk-label label {font-family: monospace;font-weight: bold;display: inline-block;line-height: 1.2em;}#sk-container-id-1 div.sk-label-container {text-align: center;}#sk-container-id-1 div.sk-container {/* jupyter's `normalize.less` sets `[hidden] { display: none; }` but bootstrap.min.css set `[hidden] { display: none !important; }` so we also need the `!important` here to be able to override the default hidden behavior on the sphinx rendered scikit-learn.org. See: https://github.com/scikit-learn/scikit-learn/issues/21755 */display: inline-block !important;position: relative;}#sk-container-id-1 div.sk-text-repr-fallback {display: none;}</style><div id=\"sk-container-id-1\" class=\"sk-top-container\"><div class=\"sk-text-repr-fallback\"><pre>LogisticRegression()</pre><b>In a Jupyter environment, please rerun this cell to show the HTML representation or trust the notebook. <br />On GitHub, the HTML representation is unable to render, please try loading this page with nbviewer.org.</b></div><div class=\"sk-container\" hidden><div class=\"sk-item\"><div class=\"sk-estimator sk-toggleable\"><input class=\"sk-toggleable__control sk-hidden--visually\" id=\"sk-estimator-id-1\" type=\"checkbox\" checked><label for=\"sk-estimator-id-1\" class=\"sk-toggleable__label sk-toggleable__label-arrow\">LogisticRegression</label><div class=\"sk-toggleable__content\"><pre>LogisticRegression()</pre></div></div></div></div></div>"
      ],
      "text/plain": [
       "LogisticRegression()"
      ]
     },
     "execution_count": 20,
     "metadata": {},
     "output_type": "execute_result"
    }
   ],
   "source": [
    "from sklearn.linear_model import LogisticRegression\n",
    "\n",
    "LR = LogisticRegression()\n",
    "LR.fit(X_train_features, Y_train)"
   ]
  },
  {
   "cell_type": "code",
   "execution_count": 21,
   "id": "995e8c4e",
   "metadata": {
    "papermill": {
     "duration": 0.030758,
     "end_time": "2022-02-13T08:05:22.957650",
     "exception": false,
     "start_time": "2022-02-13T08:05:22.926892",
     "status": "completed"
    },
    "tags": []
   },
   "outputs": [],
   "source": [
    "prediction_on_test_data = LR.predict(X_test_features)\n",
    "accuracy_on_test_data = accuracy_score(Y_test, prediction_on_test_data)"
   ]
  },
  {
   "cell_type": "code",
   "execution_count": 22,
   "id": "a34d5138",
   "metadata": {
    "papermill": {
     "duration": 0.031055,
     "end_time": "2022-02-13T08:05:23.012571",
     "exception": false,
     "start_time": "2022-02-13T08:05:22.981516",
     "status": "completed"
    },
    "tags": []
   },
   "outputs": [
    {
     "name": "stdout",
     "output_type": "stream",
     "text": [
      "Accuracy on test data :  0.968609865470852\n"
     ]
    }
   ],
   "source": [
    "print('Accuracy on test data : ', accuracy_on_test_data)"
   ]
  },
  {
   "cell_type": "markdown",
   "id": "92458481-31a4-4247-a020-f60c699d3706",
   "metadata": {},
   "source": [
    "# Decision Tree Classifier"
   ]
  },
  {
   "cell_type": "code",
   "execution_count": 23,
   "id": "1522269d-b44e-4ea4-b34a-b74851147a58",
   "metadata": {},
   "outputs": [
    {
     "data": {
      "text/html": [
       "<style>#sk-container-id-2 {color: black;}#sk-container-id-2 pre{padding: 0;}#sk-container-id-2 div.sk-toggleable {background-color: white;}#sk-container-id-2 label.sk-toggleable__label {cursor: pointer;display: block;width: 100%;margin-bottom: 0;padding: 0.3em;box-sizing: border-box;text-align: center;}#sk-container-id-2 label.sk-toggleable__label-arrow:before {content: \"▸\";float: left;margin-right: 0.25em;color: #696969;}#sk-container-id-2 label.sk-toggleable__label-arrow:hover:before {color: black;}#sk-container-id-2 div.sk-estimator:hover label.sk-toggleable__label-arrow:before {color: black;}#sk-container-id-2 div.sk-toggleable__content {max-height: 0;max-width: 0;overflow: hidden;text-align: left;background-color: #f0f8ff;}#sk-container-id-2 div.sk-toggleable__content pre {margin: 0.2em;color: black;border-radius: 0.25em;background-color: #f0f8ff;}#sk-container-id-2 input.sk-toggleable__control:checked~div.sk-toggleable__content {max-height: 200px;max-width: 100%;overflow: auto;}#sk-container-id-2 input.sk-toggleable__control:checked~label.sk-toggleable__label-arrow:before {content: \"▾\";}#sk-container-id-2 div.sk-estimator input.sk-toggleable__control:checked~label.sk-toggleable__label {background-color: #d4ebff;}#sk-container-id-2 div.sk-label input.sk-toggleable__control:checked~label.sk-toggleable__label {background-color: #d4ebff;}#sk-container-id-2 input.sk-hidden--visually {border: 0;clip: rect(1px 1px 1px 1px);clip: rect(1px, 1px, 1px, 1px);height: 1px;margin: -1px;overflow: hidden;padding: 0;position: absolute;width: 1px;}#sk-container-id-2 div.sk-estimator {font-family: monospace;background-color: #f0f8ff;border: 1px dotted black;border-radius: 0.25em;box-sizing: border-box;margin-bottom: 0.5em;}#sk-container-id-2 div.sk-estimator:hover {background-color: #d4ebff;}#sk-container-id-2 div.sk-parallel-item::after {content: \"\";width: 100%;border-bottom: 1px solid gray;flex-grow: 1;}#sk-container-id-2 div.sk-label:hover label.sk-toggleable__label {background-color: #d4ebff;}#sk-container-id-2 div.sk-serial::before {content: \"\";position: absolute;border-left: 1px solid gray;box-sizing: border-box;top: 0;bottom: 0;left: 50%;z-index: 0;}#sk-container-id-2 div.sk-serial {display: flex;flex-direction: column;align-items: center;background-color: white;padding-right: 0.2em;padding-left: 0.2em;position: relative;}#sk-container-id-2 div.sk-item {position: relative;z-index: 1;}#sk-container-id-2 div.sk-parallel {display: flex;align-items: stretch;justify-content: center;background-color: white;position: relative;}#sk-container-id-2 div.sk-item::before, #sk-container-id-2 div.sk-parallel-item::before {content: \"\";position: absolute;border-left: 1px solid gray;box-sizing: border-box;top: 0;bottom: 0;left: 50%;z-index: -1;}#sk-container-id-2 div.sk-parallel-item {display: flex;flex-direction: column;z-index: 1;position: relative;background-color: white;}#sk-container-id-2 div.sk-parallel-item:first-child::after {align-self: flex-end;width: 50%;}#sk-container-id-2 div.sk-parallel-item:last-child::after {align-self: flex-start;width: 50%;}#sk-container-id-2 div.sk-parallel-item:only-child::after {width: 0;}#sk-container-id-2 div.sk-dashed-wrapped {border: 1px dashed gray;margin: 0 0.4em 0.5em 0.4em;box-sizing: border-box;padding-bottom: 0.4em;background-color: white;}#sk-container-id-2 div.sk-label label {font-family: monospace;font-weight: bold;display: inline-block;line-height: 1.2em;}#sk-container-id-2 div.sk-label-container {text-align: center;}#sk-container-id-2 div.sk-container {/* jupyter's `normalize.less` sets `[hidden] { display: none; }` but bootstrap.min.css set `[hidden] { display: none !important; }` so we also need the `!important` here to be able to override the default hidden behavior on the sphinx rendered scikit-learn.org. See: https://github.com/scikit-learn/scikit-learn/issues/21755 */display: inline-block !important;position: relative;}#sk-container-id-2 div.sk-text-repr-fallback {display: none;}</style><div id=\"sk-container-id-2\" class=\"sk-top-container\"><div class=\"sk-text-repr-fallback\"><pre>DecisionTreeClassifier()</pre><b>In a Jupyter environment, please rerun this cell to show the HTML representation or trust the notebook. <br />On GitHub, the HTML representation is unable to render, please try loading this page with nbviewer.org.</b></div><div class=\"sk-container\" hidden><div class=\"sk-item\"><div class=\"sk-estimator sk-toggleable\"><input class=\"sk-toggleable__control sk-hidden--visually\" id=\"sk-estimator-id-2\" type=\"checkbox\" checked><label for=\"sk-estimator-id-2\" class=\"sk-toggleable__label sk-toggleable__label-arrow\">DecisionTreeClassifier</label><div class=\"sk-toggleable__content\"><pre>DecisionTreeClassifier()</pre></div></div></div></div></div>"
      ],
      "text/plain": [
       "DecisionTreeClassifier()"
      ]
     },
     "execution_count": 23,
     "metadata": {},
     "output_type": "execute_result"
    }
   ],
   "source": [
    "from sklearn.tree import DecisionTreeClassifier\n",
    "\n",
    "DT = DecisionTreeClassifier()\n",
    "DT.fit(X_train_features,Y_train)"
   ]
  },
  {
   "cell_type": "code",
   "execution_count": 24,
   "id": "71b7fabd-6f47-4f89-8adc-5734d81ea087",
   "metadata": {},
   "outputs": [],
   "source": [
    "Predict_DT = DT.predict(X_test_features)"
   ]
  },
  {
   "cell_type": "code",
   "execution_count": 25,
   "id": "0feb2735-084f-4209-9a28-334f2b9382ff",
   "metadata": {},
   "outputs": [
    {
     "name": "stdout",
     "output_type": "stream",
     "text": [
      "0.9659192825112107\n"
     ]
    }
   ],
   "source": [
    "DT_score = accuracy_score(Y_test,Predict_DT)\n",
    "print(DT_score)"
   ]
  },
  {
   "cell_type": "markdown",
   "id": "9185401e-b88b-4cf2-858c-84f08be92c61",
   "metadata": {},
   "source": [
    "# Random Forest Classifier"
   ]
  },
  {
   "cell_type": "code",
   "execution_count": 26,
   "id": "cef4db95-72a3-496a-989b-ce91a724c05b",
   "metadata": {},
   "outputs": [
    {
     "data": {
      "text/html": [
       "<style>#sk-container-id-3 {color: black;}#sk-container-id-3 pre{padding: 0;}#sk-container-id-3 div.sk-toggleable {background-color: white;}#sk-container-id-3 label.sk-toggleable__label {cursor: pointer;display: block;width: 100%;margin-bottom: 0;padding: 0.3em;box-sizing: border-box;text-align: center;}#sk-container-id-3 label.sk-toggleable__label-arrow:before {content: \"▸\";float: left;margin-right: 0.25em;color: #696969;}#sk-container-id-3 label.sk-toggleable__label-arrow:hover:before {color: black;}#sk-container-id-3 div.sk-estimator:hover label.sk-toggleable__label-arrow:before {color: black;}#sk-container-id-3 div.sk-toggleable__content {max-height: 0;max-width: 0;overflow: hidden;text-align: left;background-color: #f0f8ff;}#sk-container-id-3 div.sk-toggleable__content pre {margin: 0.2em;color: black;border-radius: 0.25em;background-color: #f0f8ff;}#sk-container-id-3 input.sk-toggleable__control:checked~div.sk-toggleable__content {max-height: 200px;max-width: 100%;overflow: auto;}#sk-container-id-3 input.sk-toggleable__control:checked~label.sk-toggleable__label-arrow:before {content: \"▾\";}#sk-container-id-3 div.sk-estimator input.sk-toggleable__control:checked~label.sk-toggleable__label {background-color: #d4ebff;}#sk-container-id-3 div.sk-label input.sk-toggleable__control:checked~label.sk-toggleable__label {background-color: #d4ebff;}#sk-container-id-3 input.sk-hidden--visually {border: 0;clip: rect(1px 1px 1px 1px);clip: rect(1px, 1px, 1px, 1px);height: 1px;margin: -1px;overflow: hidden;padding: 0;position: absolute;width: 1px;}#sk-container-id-3 div.sk-estimator {font-family: monospace;background-color: #f0f8ff;border: 1px dotted black;border-radius: 0.25em;box-sizing: border-box;margin-bottom: 0.5em;}#sk-container-id-3 div.sk-estimator:hover {background-color: #d4ebff;}#sk-container-id-3 div.sk-parallel-item::after {content: \"\";width: 100%;border-bottom: 1px solid gray;flex-grow: 1;}#sk-container-id-3 div.sk-label:hover label.sk-toggleable__label {background-color: #d4ebff;}#sk-container-id-3 div.sk-serial::before {content: \"\";position: absolute;border-left: 1px solid gray;box-sizing: border-box;top: 0;bottom: 0;left: 50%;z-index: 0;}#sk-container-id-3 div.sk-serial {display: flex;flex-direction: column;align-items: center;background-color: white;padding-right: 0.2em;padding-left: 0.2em;position: relative;}#sk-container-id-3 div.sk-item {position: relative;z-index: 1;}#sk-container-id-3 div.sk-parallel {display: flex;align-items: stretch;justify-content: center;background-color: white;position: relative;}#sk-container-id-3 div.sk-item::before, #sk-container-id-3 div.sk-parallel-item::before {content: \"\";position: absolute;border-left: 1px solid gray;box-sizing: border-box;top: 0;bottom: 0;left: 50%;z-index: -1;}#sk-container-id-3 div.sk-parallel-item {display: flex;flex-direction: column;z-index: 1;position: relative;background-color: white;}#sk-container-id-3 div.sk-parallel-item:first-child::after {align-self: flex-end;width: 50%;}#sk-container-id-3 div.sk-parallel-item:last-child::after {align-self: flex-start;width: 50%;}#sk-container-id-3 div.sk-parallel-item:only-child::after {width: 0;}#sk-container-id-3 div.sk-dashed-wrapped {border: 1px dashed gray;margin: 0 0.4em 0.5em 0.4em;box-sizing: border-box;padding-bottom: 0.4em;background-color: white;}#sk-container-id-3 div.sk-label label {font-family: monospace;font-weight: bold;display: inline-block;line-height: 1.2em;}#sk-container-id-3 div.sk-label-container {text-align: center;}#sk-container-id-3 div.sk-container {/* jupyter's `normalize.less` sets `[hidden] { display: none; }` but bootstrap.min.css set `[hidden] { display: none !important; }` so we also need the `!important` here to be able to override the default hidden behavior on the sphinx rendered scikit-learn.org. See: https://github.com/scikit-learn/scikit-learn/issues/21755 */display: inline-block !important;position: relative;}#sk-container-id-3 div.sk-text-repr-fallback {display: none;}</style><div id=\"sk-container-id-3\" class=\"sk-top-container\"><div class=\"sk-text-repr-fallback\"><pre>RandomForestClassifier()</pre><b>In a Jupyter environment, please rerun this cell to show the HTML representation or trust the notebook. <br />On GitHub, the HTML representation is unable to render, please try loading this page with nbviewer.org.</b></div><div class=\"sk-container\" hidden><div class=\"sk-item\"><div class=\"sk-estimator sk-toggleable\"><input class=\"sk-toggleable__control sk-hidden--visually\" id=\"sk-estimator-id-3\" type=\"checkbox\" checked><label for=\"sk-estimator-id-3\" class=\"sk-toggleable__label sk-toggleable__label-arrow\">RandomForestClassifier</label><div class=\"sk-toggleable__content\"><pre>RandomForestClassifier()</pre></div></div></div></div></div>"
      ],
      "text/plain": [
       "RandomForestClassifier()"
      ]
     },
     "execution_count": 26,
     "metadata": {},
     "output_type": "execute_result"
    }
   ],
   "source": [
    "from sklearn.ensemble import RandomForestClassifier\n",
    "\n",
    "RF = RandomForestClassifier()\n",
    "RF.fit(X_train_features,Y_train)"
   ]
  },
  {
   "cell_type": "code",
   "execution_count": 27,
   "id": "44e813eb-7dfd-425a-888e-338412c677fd",
   "metadata": {},
   "outputs": [],
   "source": [
    "Predict_RF = RF.predict(X_test_features)"
   ]
  },
  {
   "cell_type": "code",
   "execution_count": 28,
   "id": "a4b07ffc-2e1f-46f7-931d-40045f2dddfb",
   "metadata": {},
   "outputs": [
    {
     "name": "stdout",
     "output_type": "stream",
     "text": [
      "0.9766816143497757\n"
     ]
    }
   ],
   "source": [
    "RF_score = accuracy_score(Y_test,Predict_RF)\n",
    "print(RF_score)"
   ]
  },
  {
   "cell_type": "markdown",
   "id": "aea44e76",
   "metadata": {
    "papermill": {
     "duration": 0.024265,
     "end_time": "2022-02-13T08:05:23.061577",
     "exception": false,
     "start_time": "2022-02-13T08:05:23.037312",
     "status": "completed"
    },
    "tags": []
   },
   "source": [
    "# Building a Predictive System"
   ]
  },
  {
   "cell_type": "code",
   "execution_count": 29,
   "id": "1e8754b7",
   "metadata": {
    "papermill": {
     "duration": 0.034324,
     "end_time": "2022-02-13T08:05:23.120386",
     "exception": false,
     "start_time": "2022-02-13T08:05:23.086062",
     "status": "completed"
    },
    "tags": []
   },
   "outputs": [],
   "source": [
    "def predictions(n):\n",
    "    if n==1:\n",
    "      return 'Ham mail'\n",
    "    elif n == 0:\n",
    "      return 'Spam mail'\n",
    "\n",
    "\n",
    "def manual_testing(text):\n",
    "    input_mail = {'Message': [text]}\n",
    "    df_testing = pd.DataFrame(input_mail)\n",
    "    df_testing['Message'] = df_testing['Message'].apply(generalise)\n",
    "    new_x_text = df_testing['Message']\n",
    "    input_data_features = feature_extraction.transform(new_x_text)\n",
    "\n",
    "    LR_predictions = LR.predict(input_data_features)\n",
    "    DT_predictions = DT.predict(input_data_features)\n",
    "    RF_predictions = RF.predict(input_data_features)\n",
    "    print(\"Logistic Regression Prediction: \",predictions(LR_predictions[0]))\n",
    "    print(\"Decision Tree Prediction: \",predictions(DT_predictions[0]))\n",
    "    print(\"Random Forest Prediction: \",predictions(RF_predictions[0]))"
   ]
  },
  {
   "cell_type": "code",
   "execution_count": 30,
   "id": "43df17a3-1ea9-43eb-ba64-9bf0f5f3e8b7",
   "metadata": {},
   "outputs": [
    {
     "name": "stdin",
     "output_type": "stream",
     "text": [
      " Hello\n"
     ]
    },
    {
     "name": "stdout",
     "output_type": "stream",
     "text": [
      "Logistic Regression Prediction:  Ham mail\n",
      "Decision Tree Prediction:  Ham mail\n",
      "Random Forest Prediction:  Ham mail\n"
     ]
    }
   ],
   "source": [
    "input_mail = str(input())\n",
    "manual_testing(input_mail)"
   ]
  }
 ],
 "metadata": {
  "kernelspec": {
   "display_name": "Python 3 (ipykernel)",
   "language": "python",
   "name": "python3"
  },
  "language_info": {
   "codemirror_mode": {
    "name": "ipython",
    "version": 3
   },
   "file_extension": ".py",
   "mimetype": "text/x-python",
   "name": "python",
   "nbconvert_exporter": "python",
   "pygments_lexer": "ipython3",
   "version": "3.11.4"
  },
  "papermill": {
   "default_parameters": {},
   "duration": 12.014794,
   "end_time": "2022-02-13T08:05:23.806820",
   "environment_variables": {},
   "exception": null,
   "input_path": "__notebook__.ipynb",
   "output_path": "__notebook__.ipynb",
   "parameters": {},
   "start_time": "2022-02-13T08:05:11.792026",
   "version": "2.3.3"
  }
 },
 "nbformat": 4,
 "nbformat_minor": 5
}
